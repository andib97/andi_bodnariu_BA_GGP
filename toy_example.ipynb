{
 "cells": [
  {
   "cell_type": "code",
   "execution_count": 1,
   "metadata": {},
   "outputs": [],
   "source": [
    "import time\n",
    "from IPython.display import display, Markdown, Latex\n",
    "import tensorflow as tf\n",
    "import numpy as np\n",
    "import scipy\n",
    "import scipy.sparse as sparse\n",
    "import gpflow\n",
    "from gpflow import set_trainable\n",
    "import matplotlib.pyplot as plt\n",
    "from ggp import SVGGP\n",
    "from kernel_rf import GraphKernelMultihop, InducingGraphVariables\n",
    "from util import simmetrize as sim, predictMulti, accuracy, load_data_BA\n",
    "from scipy.cluster.vq import kmeans2\n",
    "%matplotlib inline\n",
    "#stopping tensorflow depraction warning (that gets triggered by GPflow)\n",
    "import tensorflow.python.util.deprecation as deprecation\n",
    "deprecation._PRINT_DEPRECATION_WARNINGS = False"
   ]
  },
  {
   "cell_type": "markdown",
   "metadata": {},
   "source": [
    "# Plotting the distributions"
   ]
  },
  {
   "cell_type": "code",
   "execution_count": 2,
   "metadata": {},
   "outputs": [
    {
     "data": {
      "image/png": "[encoded data removed]",
      "text/plain": [
       "<Figure size 432x288 with 1 Axes>"
      ]
     },
     "metadata": {
      "needs_background": "light"
     },
     "output_type": "display_data"
    }
   ],
   "source": [
    "\n",
    "mean1 = -2\n",
    "mean2= 2\n",
    "std2= 7\n",
    "std1 = 7\n",
    "x_min = -15\n",
    "x_max = 15\n",
    "x = np.linspace(x_min, x_max, 100)\n",
    "\n",
    "y1 = scipy.stats.norm.pdf(x,mean1,std1)\n",
    "y2 = scipy.stats.norm.pdf(x,mean2,std2)\n",
    "plt.plot(x,y1, color='coral',label=\"$\\mathcal{N}(-2,7^2)$\")\n",
    "plt.legend(loc=\"upper left\")\n",
    "plt.plot(x,y2,label=\"$\\mathcal{N}(2,7^2)$\")\n",
    "plt.legend(loc=\"upper left\")\n",
    "plt.grid()\n",
    "plt.title(\"Gaussian distributions\")\n",
    "plt.xlim(x_min,x_max)\n",
    "plt.ylim(0,0.1)\n",
    "\n",
    "\n",
    "plt.xlabel('x')\n",
    "\n",
    "plt.savefig(\"normal_distribution.png\")\n",
    "plt.show()"
   ]
  },
  {
   "cell_type": "markdown",
   "metadata": {},
   "source": [
    "# Creating toy data and adjacency matrix"
   ]
  },
  {
   "cell_type": "code",
   "execution_count": 3,
   "metadata": {},
   "outputs": [],
   "source": [
    "n = 1000\n",
    "it=1000\n",
    "np.random.seed(1234)\n",
    "features=np.concatenate(( np.random.normal(mean1,std1,n),np.random.normal(mean2,std2,n))).reshape((2*n,1))\n",
    "y=np.concatenate((np.zeros(n),np.ones(n)))"
   ]
  },
  {
   "cell_type": "code",
   "execution_count": 4,
   "metadata": {},
   "outputs": [],
   "source": [
    "adj=np.zeros((2*n,2*n))\n",
    "for i in range(adj.shape[0]):\n",
    "    for j in range(adj.shape[0]):\n",
    "        if(i!=j):\n",
    "            if((i<n and j<n) or (i>=n and j>=n)):\n",
    "                adj[i,j]=np.random.binomial(1,0.1)\n",
    "            else:\n",
    "                adj[i,j]=np.random.binomial(1,0.01)\n",
    "adj_matrix=sim(adj)"
   ]
  },
  {
   "cell_type": "code",
   "execution_count": 5,
   "metadata": {},
   "outputs": [],
   "source": [
    "rand= np.random.choice(2*n,1100,replace=False)\n",
    "\n",
    "x_train=rand[:100].astype(\"float64\")\n",
    "x_test=rand[100:].astype(\"float64\")\n",
    "y_train=y[rand[:100]].astype(\"float64\")\n",
    "y_test=y[rand[100:]].astype(\"float64\")"
   ]
  },
  {
   "cell_type": "markdown",
   "metadata": {},
   "source": [
    "# Setting up the toy data experiments"
   ]
  },
  {
   "cell_type": "code",
   "execution_count": 6,
   "metadata": {},
   "outputs": [],
   "source": [
    "def experimentGP(max_iter):\n",
    "    \n",
    "    display(Markdown('# Toy dataset GP'))\n",
    "    \n",
    "    #adapting data\n",
    "    x_train_GP=features[x_train.astype(\"int64\")]\n",
    "    x_test_GP=features[x_test.astype(\"int64\")]\n",
    "    \n",
    "    #defining the kernel\n",
    "    kernel = gpflow.kernels.Matern32()\n",
    "    invlink = gpflow.likelihoods.RobustMax(2)\n",
    "    likelihood = gpflow.likelihoods.MultiClass(2, invlink=invlink)\n",
    "    Z = InducingGraphVariables(\n",
    "      kmeans2(features, len(x_train), minit='points')[0]\n",
    "    )\n",
    "    display(Markdown('### Kernel before training'))\n",
    "    gpflow.utilities.print_summary(kernel, fmt=\"notebook\")\n",
    "    \n",
    "    #defining the model\n",
    "    m = gpflow.models.SVGP(\n",
    "        kernel=kernel,\n",
    "        likelihood=likelihood,\n",
    "        inducing_variable=Z,\n",
    "        num_latent_gps=2\n",
    "    )\n",
    "    \n",
    "    #learning\n",
    "    start_time = time.time()\n",
    "    res = gpflow.optimizers.Scipy().minimize(\n",
    "    m.training_loss_closure((x_train_GP,y_train)),\n",
    "    variables=m.trainable_variables,\n",
    "    method=\"l-bfgs-b\",\n",
    "    options={\"disp\": True, \"maxiter\": max_iter},\n",
    "    )\n",
    "    display(Markdown(\"#### Training iteration rate: \" + f\"{res.nfev / (time.time() - start_time):.3f} iter/s\"))\n",
    "    display(Markdown('### Kernel after training'))\n",
    "    gpflow.utilities.print_summary(kernel, fmt=\"notebook\")\n",
    "    \n",
    "    #testing\n",
    "    predict=predictMulti(m.predict_y(x_test_GP)[0])\n",
    "    test_err= accuracy(predict,y_test)\n",
    "    predict=predictMulti(m.predict_y(x_train_GP)[0])\n",
    "    train_err= accuracy(predict,y_train)\n",
    "    display(Markdown('### Results'))\n",
    "    display(Markdown(f\"Train acc: {train_err * 100}%\"))\n",
    "    display(Markdown(f\"Test acc: {test_err * 100}%\"))\n",
    "    \n",
    "    \n",
    "def plot(kernel):\n",
    "    degree=kernel.nodedegree(adj_matrix)\n",
    "    degree_plot=degree[degree<100]\n",
    "    bins= np.arange(0, degree_plot.max() + 1.5) - 0.5\n",
    "    plt.title(\"Toy dataset\")\n",
    "    plt.xlabel(\"Degree\")\n",
    "    plt.ylabel(\"Number of nodes\")\n",
    "    plt.hist(degree_plot,bins)\n",
    "    plt.grid()\n",
    "    plt.xticks(np.arange(1,21,1))\n",
    "    plt.savefig(\"toydata.png\")\n",
    "    plt.show()\n",
    "    display(Markdown(f\"\"\"| No. of Nodes    | % of Nodes with degree <= 20   | Average degree| Max degree| Label rate                            |\n",
    "                         |-----------------|:-----------------------------------------:|--------------------------|----------------------|---------------------------------------|\n",
    "                         |{degree.shape[0]}| {degree_plot.shape[0]/degree.shape[0]:.3f}|{np.average(degree):.3f}  |{int(np.max(degree))} | {x_train.shape[0]/degree.shape[0]:.3f}|\"\"\"))\n",
    "        \n",
    "def experimentGGP(max_iter,hops):\n",
    "    display(Markdown('# Toy dataset '+str(hops)+\"-hop GGP\"))\n",
    "    \n",
    "    #defining the kernel\n",
    "    base = gpflow.kernels.Matern32()\n",
    "    kernel=GraphKernelMultihop(features,base,adj_matrix,x_train.astype(\"int64\"),hops=hops)\n",
    "    if(hops==1):\n",
    "        display(Markdown('### Plot '))\n",
    "        plot(kernel)\n",
    "    invlink = gpflow.likelihoods.RobustMax(2)\n",
    "    likelihood = gpflow.likelihoods.MultiClass(2, invlink=invlink)\n",
    "    Z = InducingGraphVariables(\n",
    "      kmeans2(features, len(x_train), minit='points')[0]\n",
    "    )\n",
    "    display(Markdown('### Kernel before training'))\n",
    "    gpflow.utilities.print_summary(kernel, fmt=\"notebook\")\n",
    "    \n",
    "    #defining the model\n",
    "    m = SVGGP(\n",
    "        kernel=kernel,\n",
    "        likelihood=likelihood,\n",
    "        inducing_variable=Z,\n",
    "        num_latent_gps=2\n",
    "    )\n",
    "    #learning\n",
    "    start_time = time.time()\n",
    "    res = gpflow.optimizers.Scipy().minimize(\n",
    "    m.training_loss_closure((x_train,y_train)),\n",
    "    variables=m.trainable_variables,\n",
    "    method=\"l-bfgs-b\",\n",
    "    options={\"disp\": True, \"maxiter\": max_iter},\n",
    "    )\n",
    "    display(Markdown(\"#### Training iteration rate: \" + f\"{res.nfev / (time.time() - start_time):.3f} iter/s\"))\n",
    "    display(Markdown('### Kernel after training'))\n",
    "    gpflow.utilities.print_summary(kernel, fmt=\"notebook\")\n",
    "    \n",
    "    #testing\n",
    "    predict=predictMulti(m.predict_y(x_test)[0])\n",
    "    test_err= accuracy(predict,y_test)\n",
    "    predict=predictMulti(m.predict_y(x_train)[0])\n",
    "    train_err= accuracy(predict,y_train)\n",
    "    display(Markdown('### Results'))\n",
    "    display(Markdown(f\"Train acc: {train_err * 100}%\"))\n",
    "    display(Markdown(f\"Test acc: {test_err * 100}%\"))"
   ]
  },
  {
   "cell_type": "markdown",
   "metadata": {},
   "source": [
    "# Experiments"
   ]
  },
  {
   "cell_type": "code",
   "execution_count": 7,
   "metadata": {},
   "outputs": [
    {
     "data": {
      "text/markdown": [
       "# Toy dataset GP"
      ],
      "text/plain": [
       "<IPython.core.display.Markdown object>"
      ]
     },
     "metadata": {},
     "output_type": "display_data"
    },
    {
     "data": {
      "text/markdown": [
       "### Kernel before training"
      ],
      "text/plain": [
       "<IPython.core.display.Markdown object>"
      ]
     },
     "metadata": {},
     "output_type": "display_data"
    },
    {
     "data": {
      "text/html": [
       "<table>\n",
       "<thead>\n",
       "<tr><th>name                 </th><th>class    </th><th>transform  </th><th>prior  </th><th>trainable  </th><th>shape  </th><th>dtype  </th><th style=\"text-align: right;\">  value</th></tr>\n",
       "</thead>\n",
       "<tbody>\n",
       "<tr><td>Matern32.variance    </td><td>Parameter</td><td>Softplus   </td><td>       </td><td>True       </td><td>()     </td><td>float64</td><td style=\"text-align: right;\">      1</td></tr>\n",
       "<tr><td>Matern32.lengthscales</td><td>Parameter</td><td>Softplus   </td><td>       </td><td>True       </td><td>()     </td><td>float64</td><td style=\"text-align: right;\">      1</td></tr>\n",
       "</tbody>\n",
       "</table>"
      ],
      "text/plain": [
       "<IPython.core.display.HTML object>"
      ]
     },
     "metadata": {},
     "output_type": "display_data"
    },
    {
     "data": {
      "text/markdown": [
       "#### Training iteration rate: 79.029 iter/s"
      ],
      "text/plain": [
       "<IPython.core.display.Markdown object>"
      ]
     },
     "metadata": {},
     "output_type": "display_data"
    },
    {
     "data": {
      "text/markdown": [
       "### Kernel after training"
      ],
      "text/plain": [
       "<IPython.core.display.Markdown object>"
      ]
     },
     "metadata": {},
     "output_type": "display_data"
    },
    {
     "data": {
      "text/html": [
       "<table>\n",
       "<thead>\n",
       "<tr><th>name                 </th><th>class    </th><th>transform  </th><th>prior  </th><th>trainable  </th><th>shape  </th><th>dtype  </th><th style=\"text-align: right;\">   value</th></tr>\n",
       "</thead>\n",
       "<tbody>\n",
       "<tr><td>Matern32.variance    </td><td>Parameter</td><td>Softplus   </td><td>       </td><td>True       </td><td>()     </td><td>float64</td><td style=\"text-align: right;\">0.997334</td></tr>\n",
       "<tr><td>Matern32.lengthscales</td><td>Parameter</td><td>Softplus   </td><td>       </td><td>True       </td><td>()     </td><td>float64</td><td style=\"text-align: right;\">0.607269</td></tr>\n",
       "</tbody>\n",
       "</table>"
      ],
      "text/plain": [
       "<IPython.core.display.HTML object>"
      ]
     },
     "metadata": {},
     "output_type": "display_data"
    },
    {
     "data": {
      "text/markdown": [
       "### Results"
      ],
      "text/plain": [
       "<IPython.core.display.Markdown object>"
      ]
     },
     "metadata": {},
     "output_type": "display_data"
    },
    {
     "data": {
      "text/markdown": [
       "Train acc: 81.0%"
      ],
      "text/plain": [
       "<IPython.core.display.Markdown object>"
      ]
     },
     "metadata": {},
     "output_type": "display_data"
    },
    {
     "data": {
      "text/markdown": [
       "Test acc: 56.599999999999994%"
      ],
      "text/plain": [
       "<IPython.core.display.Markdown object>"
      ]
     },
     "metadata": {},
     "output_type": "display_data"
    }
   ],
   "source": [
    "experimentGP(max_iter=it)"
   ]
  },
  {
   "cell_type": "code",
   "execution_count": 8,
   "metadata": {},
   "outputs": [
    {
     "data": {
      "text/markdown": [
       "# Toy dataset 1-hop GGP"
      ],
      "text/plain": [
       "<IPython.core.display.Markdown object>"
      ]
     },
     "metadata": {},
     "output_type": "display_data"
    },
    {
     "data": {
      "text/markdown": [
       "### Plot "
      ],
      "text/plain": [
       "<IPython.core.display.Markdown object>"
      ]
     },
     "metadata": {},
     "output_type": "display_data"
    },
    {
     "data": {
      "image/png": "[encoded data removed]",
      "text/plain": [
       "<Figure size 432x288 with 1 Axes>"
      ]
     },
     "metadata": {
      "needs_background": "light"
     },
     "output_type": "display_data"
    },
    {
     "data": {
      "text/markdown": [
       "| No. of Nodes    | % of Nodes with degree <= 20   | Average degree| Max degree| Label rate                            |\n",
       "                         |-----------------|:-----------------------------------------:|--------------------------|----------------------|---------------------------------------|\n",
       "                         |2000| 1.000|10.169  |23 | 0.050|"
      ],
      "text/plain": [
       "<IPython.core.display.Markdown object>"
      ]
     },
     "metadata": {},
     "output_type": "display_data"
    },
    {
     "data": {
      "text/markdown": [
       "### Kernel before training"
      ],
      "text/plain": [
       "<IPython.core.display.Markdown object>"
      ]
     },
     "metadata": {},
     "output_type": "display_data"
    },
    {
     "data": {
      "text/html": [
       "<table>\n",
       "<thead>\n",
       "<tr><th>name                                        </th><th>class    </th><th>transform  </th><th>prior  </th><th>trainable  </th><th>shape  </th><th>dtype  </th><th style=\"text-align: right;\">  value</th></tr>\n",
       "</thead>\n",
       "<tbody>\n",
       "<tr><td>GraphKernelMultihop.base_kernel.variance    </td><td>Parameter</td><td>Softplus   </td><td>       </td><td>True       </td><td>()     </td><td>float64</td><td style=\"text-align: right;\">      1</td></tr>\n",
       "<tr><td>GraphKernelMultihop.base_kernel.lengthscales</td><td>Parameter</td><td>Softplus   </td><td>       </td><td>True       </td><td>()     </td><td>float64</td><td style=\"text-align: right;\">      1</td></tr>\n",
       "</tbody>\n",
       "</table>"
      ],
      "text/plain": [
       "<IPython.core.display.HTML object>"
      ]
     },
     "metadata": {},
     "output_type": "display_data"
    },
    {
     "data": {
      "text/markdown": [
       "#### Training iteration rate: 56.277 iter/s"
      ],
      "text/plain": [
       "<IPython.core.display.Markdown object>"
      ]
     },
     "metadata": {},
     "output_type": "display_data"
    },
    {
     "data": {
      "text/markdown": [
       "### Kernel after training"
      ],
      "text/plain": [
       "<IPython.core.display.Markdown object>"
      ]
     },
     "metadata": {},
     "output_type": "display_data"
    },
    {
     "data": {
      "text/html": [
       "<table>\n",
       "<thead>\n",
       "<tr><th>name                                        </th><th>class    </th><th>transform  </th><th>prior  </th><th>trainable  </th><th>shape  </th><th>dtype  </th><th style=\"text-align: right;\">  value</th></tr>\n",
       "</thead>\n",
       "<tbody>\n",
       "<tr><td>GraphKernelMultihop.base_kernel.variance    </td><td>Parameter</td><td>Softplus   </td><td>       </td><td>True       </td><td>()     </td><td>float64</td><td style=\"text-align: right;\">1.00933</td></tr>\n",
       "<tr><td>GraphKernelMultihop.base_kernel.lengthscales</td><td>Parameter</td><td>Softplus   </td><td>       </td><td>True       </td><td>()     </td><td>float64</td><td style=\"text-align: right;\">7.19429</td></tr>\n",
       "</tbody>\n",
       "</table>"
      ],
      "text/plain": [
       "<IPython.core.display.HTML object>"
      ]
     },
     "metadata": {},
     "output_type": "display_data"
    },
    {
     "data": {
      "text/markdown": [
       "### Results"
      ],
      "text/plain": [
       "<IPython.core.display.Markdown object>"
      ]
     },
     "metadata": {},
     "output_type": "display_data"
    },
    {
     "data": {
      "text/markdown": [
       "Train acc: 94.0%"
      ],
      "text/plain": [
       "<IPython.core.display.Markdown object>"
      ]
     },
     "metadata": {},
     "output_type": "display_data"
    },
    {
     "data": {
      "text/markdown": [
       "Test acc: 75.9%"
      ],
      "text/plain": [
       "<IPython.core.display.Markdown object>"
      ]
     },
     "metadata": {},
     "output_type": "display_data"
    }
   ],
   "source": [
    "experimentGGP(max_iter=it,hops=1)"
   ]
  },
  {
   "cell_type": "code",
   "execution_count": 9,
   "metadata": {},
   "outputs": [
    {
     "data": {
      "text/markdown": [
       "# Toy dataset 2-hop GGP"
      ],
      "text/plain": [
       "<IPython.core.display.Markdown object>"
      ]
     },
     "metadata": {},
     "output_type": "display_data"
    },
    {
     "data": {
      "text/markdown": [
       "### Kernel before training"
      ],
      "text/plain": [
       "<IPython.core.display.Markdown object>"
      ]
     },
     "metadata": {},
     "output_type": "display_data"
    },
    {
     "data": {
      "text/html": [
       "<table>\n",
       "<thead>\n",
       "<tr><th>name                                        </th><th>class    </th><th>transform  </th><th>prior  </th><th>trainable  </th><th>shape  </th><th>dtype  </th><th style=\"text-align: right;\">  value</th></tr>\n",
       "</thead>\n",
       "<tbody>\n",
       "<tr><td>GraphKernelMultihop.base_kernel.variance    </td><td>Parameter</td><td>Softplus   </td><td>       </td><td>True       </td><td>()     </td><td>float64</td><td style=\"text-align: right;\">      1</td></tr>\n",
       "<tr><td>GraphKernelMultihop.base_kernel.lengthscales</td><td>Parameter</td><td>Softplus   </td><td>       </td><td>True       </td><td>()     </td><td>float64</td><td style=\"text-align: right;\">      1</td></tr>\n",
       "</tbody>\n",
       "</table>"
      ],
      "text/plain": [
       "<IPython.core.display.HTML object>"
      ]
     },
     "metadata": {},
     "output_type": "display_data"
    },
    {
     "data": {
      "text/markdown": [
       "#### Training iteration rate: 4.244 iter/s"
      ],
      "text/plain": [
       "<IPython.core.display.Markdown object>"
      ]
     },
     "metadata": {},
     "output_type": "display_data"
    },
    {
     "data": {
      "text/markdown": [
       "### Kernel after training"
      ],
      "text/plain": [
       "<IPython.core.display.Markdown object>"
      ]
     },
     "metadata": {},
     "output_type": "display_data"
    },
    {
     "data": {
      "text/html": [
       "<table>\n",
       "<thead>\n",
       "<tr><th>name                                        </th><th>class    </th><th>transform  </th><th>prior  </th><th>trainable  </th><th>shape  </th><th>dtype  </th><th style=\"text-align: right;\">   value</th></tr>\n",
       "</thead>\n",
       "<tbody>\n",
       "<tr><td>GraphKernelMultihop.base_kernel.variance    </td><td>Parameter</td><td>Softplus   </td><td>       </td><td>True       </td><td>()     </td><td>float64</td><td style=\"text-align: right;\"> 1.00147</td></tr>\n",
       "<tr><td>GraphKernelMultihop.base_kernel.lengthscales</td><td>Parameter</td><td>Softplus   </td><td>       </td><td>True       </td><td>()     </td><td>float64</td><td style=\"text-align: right;\">22.1604 </td></tr>\n",
       "</tbody>\n",
       "</table>"
      ],
      "text/plain": [
       "<IPython.core.display.HTML object>"
      ]
     },
     "metadata": {},
     "output_type": "display_data"
    },
    {
     "data": {
      "text/markdown": [
       "### Results"
      ],
      "text/plain": [
       "<IPython.core.display.Markdown object>"
      ]
     },
     "metadata": {},
     "output_type": "display_data"
    },
    {
     "data": {
      "text/markdown": [
       "Train acc: 100.0%"
      ],
      "text/plain": [
       "<IPython.core.display.Markdown object>"
      ]
     },
     "metadata": {},
     "output_type": "display_data"
    },
    {
     "data": {
      "text/markdown": [
       "Test acc: 99.4%"
      ],
      "text/plain": [
       "<IPython.core.display.Markdown object>"
      ]
     },
     "metadata": {},
     "output_type": "display_data"
    }
   ],
   "source": [
    "experimentGGP(max_iter=it,hops=2)"
   ]
  }
 ],
 "metadata": {
  "kernelspec": {
   "display_name": "Python 3",
   "language": "python",
   "name": "python3"
  },
  "language_info": {
   "codemirror_mode": {
    "name": "ipython",
    "version": 3
   },
   "file_extension": ".py",
   "mimetype": "text/x-python",
   "name": "python",
   "nbconvert_exporter": "python",
   "pygments_lexer": "ipython3",
   "version": "3.7.6"
  }
 },
 "nbformat": 4,
 "nbformat_minor": 4
}
